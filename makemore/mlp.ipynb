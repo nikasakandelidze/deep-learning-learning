{
 "cells": [
  {
   "cell_type": "code",
   "execution_count": 2,
   "metadata": {},
   "outputs": [
    {
     "name": "stdout",
     "output_type": "stream",
     "text": [
      "Requirement already satisfied: torch in /Users/nikasakandelidze/deeplearning/deeplearning/lib/python3.9/site-packages (2.2.1)\n",
      "Requirement already satisfied: jinja2 in /Users/nikasakandelidze/deeplearning/deeplearning/lib/python3.9/site-packages (from torch) (3.1.3)\n",
      "Requirement already satisfied: networkx in /Users/nikasakandelidze/deeplearning/deeplearning/lib/python3.9/site-packages (from torch) (3.2.1)\n",
      "Requirement already satisfied: typing-extensions>=4.8.0 in /Users/nikasakandelidze/deeplearning/deeplearning/lib/python3.9/site-packages (from torch) (4.9.0)\n",
      "Requirement already satisfied: filelock in /Users/nikasakandelidze/deeplearning/deeplearning/lib/python3.9/site-packages (from torch) (3.13.1)\n",
      "Requirement already satisfied: sympy in /Users/nikasakandelidze/deeplearning/deeplearning/lib/python3.9/site-packages (from torch) (1.12)\n",
      "Requirement already satisfied: fsspec in /Users/nikasakandelidze/deeplearning/deeplearning/lib/python3.9/site-packages (from torch) (2024.2.0)\n",
      "Requirement already satisfied: MarkupSafe>=2.0 in /Users/nikasakandelidze/deeplearning/deeplearning/lib/python3.9/site-packages (from jinja2->torch) (2.1.5)\n",
      "Requirement already satisfied: mpmath>=0.19 in /Users/nikasakandelidze/deeplearning/deeplearning/lib/python3.9/site-packages (from sympy->torch) (1.3.0)\n",
      "\u001b[33mWARNING: You are using pip version 21.2.4; however, version 24.0 is available.\n",
      "You should consider upgrading via the '/Users/nikasakandelidze/deeplearning/deeplearning/bin/python -m pip install --upgrade pip' command.\u001b[0m\n",
      "Requirement already satisfied: matplotlib in /Users/nikasakandelidze/deeplearning/deeplearning/lib/python3.9/site-packages (3.8.3)\n",
      "Requirement already satisfied: python-dateutil>=2.7 in /Users/nikasakandelidze/deeplearning/deeplearning/lib/python3.9/site-packages (from matplotlib) (2.8.2)\n",
      "Requirement already satisfied: numpy<2,>=1.21 in /Users/nikasakandelidze/deeplearning/deeplearning/lib/python3.9/site-packages (from matplotlib) (1.26.4)\n",
      "Requirement already satisfied: cycler>=0.10 in /Users/nikasakandelidze/deeplearning/deeplearning/lib/python3.9/site-packages (from matplotlib) (0.12.1)\n",
      "Requirement already satisfied: packaging>=20.0 in /Users/nikasakandelidze/deeplearning/deeplearning/lib/python3.9/site-packages (from matplotlib) (23.2)\n",
      "Requirement already satisfied: contourpy>=1.0.1 in /Users/nikasakandelidze/deeplearning/deeplearning/lib/python3.9/site-packages (from matplotlib) (1.2.0)\n",
      "Requirement already satisfied: pyparsing>=2.3.1 in /Users/nikasakandelidze/deeplearning/deeplearning/lib/python3.9/site-packages (from matplotlib) (3.1.1)\n",
      "Requirement already satisfied: importlib-resources>=3.2.0 in /Users/nikasakandelidze/deeplearning/deeplearning/lib/python3.9/site-packages (from matplotlib) (6.1.1)\n",
      "Requirement already satisfied: fonttools>=4.22.0 in /Users/nikasakandelidze/deeplearning/deeplearning/lib/python3.9/site-packages (from matplotlib) (4.49.0)\n",
      "Requirement already satisfied: pillow>=8 in /Users/nikasakandelidze/deeplearning/deeplearning/lib/python3.9/site-packages (from matplotlib) (10.2.0)\n",
      "Requirement already satisfied: kiwisolver>=1.3.1 in /Users/nikasakandelidze/deeplearning/deeplearning/lib/python3.9/site-packages (from matplotlib) (1.4.5)\n",
      "Requirement already satisfied: zipp>=3.1.0 in /Users/nikasakandelidze/deeplearning/deeplearning/lib/python3.9/site-packages (from importlib-resources>=3.2.0->matplotlib) (3.17.0)\n",
      "Requirement already satisfied: six>=1.5 in /Users/nikasakandelidze/deeplearning/deeplearning/lib/python3.9/site-packages (from python-dateutil>=2.7->matplotlib) (1.16.0)\n",
      "\u001b[33mWARNING: You are using pip version 21.2.4; however, version 24.0 is available.\n",
      "You should consider upgrading via the '/Users/nikasakandelidze/deeplearning/deeplearning/bin/python -m pip install --upgrade pip' command.\u001b[0m\n"
     ]
    }
   ],
   "source": [
    "!pip install torch\n",
    "!pip install matplotlib\n",
    "\n",
    "import torch\n",
    "import torch.nn.functional as F\n",
    "import matplotlib.pyplot as plt"
   ]
  },
  {
   "cell_type": "code",
   "execution_count": 3,
   "metadata": {},
   "outputs": [
    {
     "name": "stdout",
     "output_type": "stream",
     "text": [
      "emma\n"
     ]
    }
   ],
   "source": [
    "words = open('names.txt', 'r').read().splitlines()\n",
    "print(words[0])"
   ]
  },
  {
   "cell_type": "code",
   "execution_count": 36,
   "metadata": {},
   "outputs": [
    {
     "name": "stdout",
     "output_type": "stream",
     "text": [
      "{'a': 1, 'b': 2, 'c': 3, 'd': 4, 'e': 5, 'f': 6, 'g': 7, 'h': 8, 'i': 9, 'j': 10, 'k': 11, 'l': 12, 'm': 13, 'n': 14, 'o': 15, 'p': 16, 'q': 17, 'r': 18, 's': 19, 't': 20, 'u': 21, 'v': 22, 'w': 23, 'x': 24, 'y': 25, 'z': 26, '.': 0}\n"
     ]
    }
   ],
   "source": [
    "chars = sorted(list(set(''.join(words))))\n",
    "stoi = {s: i+1 for i, s in enumerate(chars)}\n",
    "stoi['.'] = 0\n",
    "itos = {i: s for s, i in stoi.items()}\n",
    "print(stoi)"
   ]
  },
  {
   "cell_type": "code",
   "execution_count": 47,
   "metadata": {},
   "outputs": [
    {
     "name": "stdout",
     "output_type": "stream",
     "text": [
      "torch.Size([32, 3]) torch.Size([32])\n"
     ]
    }
   ],
   "source": [
    "block_size = 3\n",
    "xs = []\n",
    "ys = []\n",
    "for word in words[:5]:\n",
    "    word = word + \".\"\n",
    "    prev = [0] * block_size\n",
    "    for i in range(len(word)):\n",
    "        chNum = stoi[word[i]]\n",
    "        xs.append(prev[:])\n",
    "        ys.append(chNum)\n",
    "        prev.append(chNum)\n",
    "        prev = prev[1:]\n",
    "# print(xs)\n",
    "# print(ys)\n",
    "\n",
    "X = torch.tensor(xs)\n",
    "Y = torch.tensor(ys)\n",
    "\n",
    "print(X.shape, Y.shape)"
   ]
  },
  {
   "cell_type": "code",
   "execution_count": 64,
   "metadata": {},
   "outputs": [
    {
     "data": {
      "text/plain": [
       "torch.Size([32, 3, 2])"
      ]
     },
     "execution_count": 64,
     "metadata": {},
     "output_type": "execute_result"
    }
   ],
   "source": [
    "C = torch.randn((27,2))\n",
    "emb = C[X]\n",
    "emb.shape\n",
    "# The reason as to why embedding's shape is 32 - 3 - 2 is that before embedding dimensions were 32 - 3. 32 sample data points, each comprising of 3 numbers, each of these\n",
    "# 3 numbers representing characters(encoded to integers). When we say that we want to encode characters into 2 dimensional space, it means that each and every character now\n",
    "# will be represented as 2 numbers instead of one. Thus each of 3 old numbers now would be 3 pairs of numbers, thus leading to 32 - 3 - 2"
   ]
  },
  {
   "cell_type": "code",
   "execution_count": 76,
   "metadata": {},
   "outputs": [
    {
     "name": "stdout",
     "output_type": "stream",
     "text": [
      "tensor([[0.3895, 0.4149],\n",
      "        [0.3895, 0.4149],\n",
      "        [0.3895, 0.4149]])\n",
      "torch.Size([32, 6])\n"
     ]
    }
   ],
   "source": [
    "# 6 here is total number synapses for each neuron, since each input is 3 * 2 elements we flatten it\n",
    "W1 = torch.randn((6, 27))\n",
    "b1 = torch.randn(27)\n",
    "\n",
    "print(emb[0])\n",
    "\n",
    "flattened_emb = torch.stack([x.flatten() for x in emb])\n",
    "print(flattened_emb.shape)\n",
    "\n",
    "# flattened_emb @ W1 + b1"
   ]
  }
 ],
 "metadata": {
  "kernelspec": {
   "display_name": "deeplearning",
   "language": "python",
   "name": "python3"
  },
  "language_info": {
   "codemirror_mode": {
    "name": "ipython",
    "version": 3
   },
   "file_extension": ".py",
   "mimetype": "text/x-python",
   "name": "python",
   "nbconvert_exporter": "python",
   "pygments_lexer": "ipython3",
   "version": "3.9.6"
  }
 },
 "nbformat": 4,
 "nbformat_minor": 2
}
