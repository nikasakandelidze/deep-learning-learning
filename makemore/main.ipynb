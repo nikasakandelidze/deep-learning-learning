{
 "cells": [
  {
   "cell_type": "code",
   "execution_count": 48,
   "metadata": {},
   "outputs": [
    {
     "name": "stdout",
     "output_type": "stream",
     "text": [
      "Requirement already satisfied: torch in /Users/nikasakandelidze/deeplearning/deeplearning/lib/python3.9/site-packages (2.2.1)\n",
      "Requirement already satisfied: typing-extensions>=4.8.0 in /Users/nikasakandelidze/deeplearning/deeplearning/lib/python3.9/site-packages (from torch) (4.9.0)\n",
      "Requirement already satisfied: sympy in /Users/nikasakandelidze/deeplearning/deeplearning/lib/python3.9/site-packages (from torch) (1.12)\n",
      "Requirement already satisfied: fsspec in /Users/nikasakandelidze/deeplearning/deeplearning/lib/python3.9/site-packages (from torch) (2024.2.0)\n",
      "Requirement already satisfied: jinja2 in /Users/nikasakandelidze/deeplearning/deeplearning/lib/python3.9/site-packages (from torch) (3.1.3)\n",
      "Requirement already satisfied: networkx in /Users/nikasakandelidze/deeplearning/deeplearning/lib/python3.9/site-packages (from torch) (3.2.1)\n",
      "Requirement already satisfied: filelock in /Users/nikasakandelidze/deeplearning/deeplearning/lib/python3.9/site-packages (from torch) (3.13.1)\n",
      "Requirement already satisfied: MarkupSafe>=2.0 in /Users/nikasakandelidze/deeplearning/deeplearning/lib/python3.9/site-packages (from jinja2->torch) (2.1.5)\n",
      "Requirement already satisfied: mpmath>=0.19 in /Users/nikasakandelidze/deeplearning/deeplearning/lib/python3.9/site-packages (from sympy->torch) (1.3.0)\n",
      "\u001b[33mWARNING: You are using pip version 21.2.4; however, version 24.0 is available.\n",
      "You should consider upgrading via the '/Users/nikasakandelidze/deeplearning/deeplearning/bin/python -m pip install --upgrade pip' command.\u001b[0m\n"
     ]
    }
   ],
   "source": [
    "!pip install torch"
   ]
  },
  {
   "cell_type": "code",
   "execution_count": 49,
   "metadata": {},
   "outputs": [],
   "source": [
    "import torch"
   ]
  },
  {
   "cell_type": "code",
   "execution_count": 47,
   "metadata": {},
   "outputs": [],
   "source": [
    "names = open('names.txt').read().split(\"\\n\")"
   ]
  },
  {
   "cell_type": "code",
   "execution_count": 3,
   "metadata": {},
   "outputs": [
    {
     "name": "stdout",
     "output_type": "stream",
     "text": [
      "32033\n"
     ]
    }
   ],
   "source": [
    "print(len(names))"
   ]
  },
  {
   "cell_type": "code",
   "execution_count": 5,
   "metadata": {},
   "outputs": [
    {
     "name": "stdout",
     "output_type": "stream",
     "text": [
      "2\n",
      "15\n"
     ]
    }
   ],
   "source": [
    "print(min([len(x) for x in names]))\n",
    "print((max([len(x) for x in names])))"
   ]
  },
  {
   "cell_type": "code",
   "execution_count": 97,
   "metadata": {},
   "outputs": [
    {
     "name": "stdout",
     "output_type": "stream",
     "text": [
      "n | tensor(6763, dtype=torch.int32)\n",
      "b c tensor(1, dtype=torch.int32)\n"
     ]
    }
   ],
   "source": [
    "# bi-gram model\n",
    "stats = torch.zeros([28, 28], dtype=torch.int32)\n",
    "\n",
    "def get_indexes(prev, nxt):\n",
    "    zero_based_index =  lambda i : ord(i) - 97\n",
    "    if prev == '<START>':\n",
    "        return 0, zero_based_index(nxt)\n",
    "    elif nxt == '<END>':\n",
    "        return zero_based_index(prev), 27\n",
    "    else:\n",
    "        return zero_based_index(prev), zero_based_index(nxt)\n",
    "    \n",
    "\n",
    "for name in names:\n",
    "    word = ['<START>'] + list(name) + ['<END>']\n",
    "    for prev, nxt in zip(word, word[1:]):\n",
    "        i,j = get_indexes(prev, nxt)\n",
    "        stats[i][j] += 1\n",
    "\n",
    "max_idx = stats.argmax()\n",
    "y_max, x_max = max_idx // 28, max_idx % 28\n",
    "\n",
    "print(chr(y_max+97), chr(x_max+97), stats[y_max][x_max])\n",
    "\n",
    "\n",
    "stats[stats == 0] = stats[y_max][x_max] + 10 # custom solution to not interfere with min calc\n",
    "min_idx = stats.argmin()\n",
    "y_min, x_min = min_idx // 28, min_idx % 28\n",
    "\n",
    "print(chr(y_min+97), chr(x_min+97), stats[y_min][x_min])"
   ]
  }
 ],
 "metadata": {
  "kernelspec": {
   "display_name": "deeplearning",
   "language": "python",
   "name": "python3"
  },
  "language_info": {
   "codemirror_mode": {
    "name": "ipython",
    "version": 3
   },
   "file_extension": ".py",
   "mimetype": "text/x-python",
   "name": "python",
   "nbconvert_exporter": "python",
   "pygments_lexer": "ipython3",
   "version": "3.9.6"
  }
 },
 "nbformat": 4,
 "nbformat_minor": 2
}
